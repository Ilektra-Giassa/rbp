{
 "cells": [
  {
   "cell_type": "markdown",
   "metadata": {},
   "source": [
    "# Introduction to RBP package\n",
    "\n",
    "This notebook includes a demonstration of `rbp` modules' functionality.\n",
    "\n",
    "## Random\n",
    "\n",
    "The `random` module contains functions for random genomic coordinates and sequences permutation."
   ]
  },
  {
   "cell_type": "code",
   "execution_count": 1,
   "metadata": {},
   "outputs": [],
   "source": [
    "%load_ext autoreload\n",
    "%autoreload 2\n",
    "\n",
    "from rbp.random import random_genomic_position, random_genomic_interval, seq_permutation, gen_random_intervals\n",
    "import pandas as pd"
   ]
  },
  {
   "cell_type": "markdown",
   "metadata": {},
   "source": [
    "### Permutations\n",
    "\n",
    "For a sequence, the package provides `seq_permutation` function to do a random shuffling of characters:"
   ]
  },
  {
   "cell_type": "code",
   "execution_count": 2,
   "metadata": {},
   "outputs": [
    {
     "data": {
      "text/plain": [
       "'HPEBLAAT'"
      ]
     },
     "execution_count": 2,
     "metadata": {},
     "output_type": "execute_result"
    }
   ],
   "source": [
    "seq_permutation('ALPHABET')"
   ]
  },
  {
   "cell_type": "markdown",
   "metadata": {},
   "source": [
    "Optionally, we might want not to permute individual characters but k-mers. In the example below, note that `ALP`, `HAB` and `ET` k-mers are untouched."
   ]
  },
  {
   "cell_type": "code",
   "execution_count": 3,
   "metadata": {},
   "outputs": [
    {
     "data": {
      "text/plain": [
       "'ETALPHAB'"
      ]
     },
     "execution_count": 3,
     "metadata": {},
     "output_type": "execute_result"
    }
   ],
   "source": [
    "seq_permutation('ALPHABET', k=3)"
   ]
  },
  {
   "cell_type": "markdown",
   "metadata": {},
   "source": [
    "### Random positions and intervals"
   ]
  },
  {
   "cell_type": "markdown",
   "metadata": {},
   "source": [
    "With `random_genomic_position` function, it is easy to get a random position in a human genome (GRCh38). Note that all coordinates are 1-based. "
   ]
  },
  {
   "cell_type": "code",
   "execution_count": 4,
   "metadata": {},
   "outputs": [
    {
     "data": {
      "text/plain": [
       "('11', 108213279)"
      ]
     },
     "execution_count": 4,
     "metadata": {},
     "output_type": "execute_result"
    }
   ],
   "source": [
    "random_genomic_position()"
   ]
  },
  {
   "cell_type": "markdown",
   "metadata": {},
   "source": [
    "We can, of course, use any other genome by providing its chromosomes' lengths (either a dictionary or pandas.Series object)."
   ]
  },
  {
   "cell_type": "code",
   "execution_count": 5,
   "metadata": {},
   "outputs": [
    {
     "data": {
      "text/plain": [
       "('2', 2)"
      ]
     },
     "execution_count": 5,
     "metadata": {},
     "output_type": "execute_result"
    }
   ],
   "source": [
    "MINI_GENOME = {'1': 5, '2': 3}\n",
    "random_genomic_position(MINI_GENOME)"
   ]
  },
  {
   "cell_type": "markdown",
   "metadata": {},
   "source": [
    "Instead of one position, we can generate a random interval as follows:"
   ]
  },
  {
   "cell_type": "code",
   "execution_count": 6,
   "metadata": {},
   "outputs": [
    {
     "data": {
      "text/plain": [
       "('12', 20274153, 20274352)"
      ]
     },
     "execution_count": 6,
     "metadata": {},
     "output_type": "execute_result"
    }
   ],
   "source": [
    "random_genomic_interval(interval_length=200)"
   ]
  },
  {
   "cell_type": "markdown",
   "metadata": {},
   "source": [
    "Generate random genomic intervals with `gen_random_intervals`, with reproducibility (seed)."
   ]
  },
  {
   "cell_type": "code",
   "execution_count": 7,
   "metadata": {},
   "outputs": [
    {
     "data": {
      "text/html": [
       "<div>\n",
       "<style scoped>\n",
       "    .dataframe tbody tr th:only-of-type {\n",
       "        vertical-align: middle;\n",
       "    }\n",
       "\n",
       "    .dataframe tbody tr th {\n",
       "        vertical-align: top;\n",
       "    }\n",
       "\n",
       "    .dataframe thead th {\n",
       "        text-align: right;\n",
       "    }\n",
       "</style>\n",
       "<table border=\"1\" class=\"dataframe\">\n",
       "  <thead>\n",
       "    <tr style=\"text-align: right;\">\n",
       "      <th></th>\n",
       "      <th>chr</th>\n",
       "      <th>start</th>\n",
       "      <th>end</th>\n",
       "      <th>name</th>\n",
       "      <th>score</th>\n",
       "      <th>strand</th>\n",
       "    </tr>\n",
       "  </thead>\n",
       "  <tbody>\n",
       "    <tr>\n",
       "      <th>0</th>\n",
       "      <td>chr21</td>\n",
       "      <td>24062875</td>\n",
       "      <td>24062900</td>\n",
       "      <td>1</td>\n",
       "      <td>25</td>\n",
       "      <td>+</td>\n",
       "    </tr>\n",
       "    <tr>\n",
       "      <th>1</th>\n",
       "      <td>chr10</td>\n",
       "      <td>103186149</td>\n",
       "      <td>103186174</td>\n",
       "      <td>2</td>\n",
       "      <td>25</td>\n",
       "      <td>-</td>\n",
       "    </tr>\n",
       "    <tr>\n",
       "      <th>2</th>\n",
       "      <td>chr1</td>\n",
       "      <td>164187383</td>\n",
       "      <td>164187408</td>\n",
       "      <td>3</td>\n",
       "      <td>25</td>\n",
       "      <td>-</td>\n",
       "    </tr>\n",
       "    <tr>\n",
       "      <th>3</th>\n",
       "      <td>chr15</td>\n",
       "      <td>86182851</td>\n",
       "      <td>86182876</td>\n",
       "      <td>4</td>\n",
       "      <td>25</td>\n",
       "      <td>-</td>\n",
       "    </tr>\n",
       "    <tr>\n",
       "      <th>4</th>\n",
       "      <td>chr9</td>\n",
       "      <td>42140825</td>\n",
       "      <td>42140850</td>\n",
       "      <td>5</td>\n",
       "      <td>25</td>\n",
       "      <td>+</td>\n",
       "    </tr>\n",
       "    <tr>\n",
       "      <th>5</th>\n",
       "      <td>chr1</td>\n",
       "      <td>104836096</td>\n",
       "      <td>104836121</td>\n",
       "      <td>6</td>\n",
       "      <td>25</td>\n",
       "      <td>-</td>\n",
       "    </tr>\n",
       "    <tr>\n",
       "      <th>6</th>\n",
       "      <td>chr2</td>\n",
       "      <td>109157020</td>\n",
       "      <td>109157045</td>\n",
       "      <td>7</td>\n",
       "      <td>25</td>\n",
       "      <td>+</td>\n",
       "    </tr>\n",
       "    <tr>\n",
       "      <th>7</th>\n",
       "      <td>chrX</td>\n",
       "      <td>34974953</td>\n",
       "      <td>34974978</td>\n",
       "      <td>8</td>\n",
       "      <td>25</td>\n",
       "      <td>-</td>\n",
       "    </tr>\n",
       "    <tr>\n",
       "      <th>8</th>\n",
       "      <td>chr1</td>\n",
       "      <td>17061260</td>\n",
       "      <td>17061285</td>\n",
       "      <td>9</td>\n",
       "      <td>25</td>\n",
       "      <td>-</td>\n",
       "    </tr>\n",
       "    <tr>\n",
       "      <th>9</th>\n",
       "      <td>chr9</td>\n",
       "      <td>66562180</td>\n",
       "      <td>66562205</td>\n",
       "      <td>10</td>\n",
       "      <td>25</td>\n",
       "      <td>+</td>\n",
       "    </tr>\n",
       "  </tbody>\n",
       "</table>\n",
       "</div>"
      ],
      "text/plain": [
       "     chr      start        end  name  score strand\n",
       "0  chr21   24062875   24062900     1     25      +\n",
       "1  chr10  103186149  103186174     2     25      -\n",
       "2   chr1  164187383  164187408     3     25      -\n",
       "3  chr15   86182851   86182876     4     25      -\n",
       "4   chr9   42140825   42140850     5     25      +\n",
       "5   chr1  104836096  104836121     6     25      -\n",
       "6   chr2  109157020  109157045     7     25      +\n",
       "7   chrX   34974953   34974978     8     25      -\n",
       "8   chr1   17061260   17061285     9     25      -\n",
       "9   chr9   66562180   66562205    10     25      +"
      ]
     },
     "execution_count": 7,
     "metadata": {},
     "output_type": "execute_result"
    }
   ],
   "source": [
    "gen_random_intervals(sample_size=10, interval_size=25, reference='hg19', seed=10)"
   ]
  },
  {
   "cell_type": "markdown",
   "metadata": {},
   "source": [
    "And there is a straightforward way how to generate not one, but many genomic positions or intervals, e.g."
   ]
  },
  {
   "cell_type": "code",
   "execution_count": 8,
   "metadata": {
    "scrolled": true
   },
   "outputs": [
    {
     "data": {
      "text/html": [
       "<div>\n",
       "<style scoped>\n",
       "    .dataframe tbody tr th:only-of-type {\n",
       "        vertical-align: middle;\n",
       "    }\n",
       "\n",
       "    .dataframe tbody tr th {\n",
       "        vertical-align: top;\n",
       "    }\n",
       "\n",
       "    .dataframe thead th {\n",
       "        text-align: right;\n",
       "    }\n",
       "</style>\n",
       "<table border=\"1\" class=\"dataframe\">\n",
       "  <thead>\n",
       "    <tr style=\"text-align: right;\">\n",
       "      <th></th>\n",
       "      <th>chr</th>\n",
       "      <th>start</th>\n",
       "      <th>end</th>\n",
       "    </tr>\n",
       "  </thead>\n",
       "  <tbody>\n",
       "    <tr>\n",
       "      <th>0</th>\n",
       "      <td>1</td>\n",
       "      <td>245542258</td>\n",
       "      <td>245542457</td>\n",
       "    </tr>\n",
       "    <tr>\n",
       "      <th>1</th>\n",
       "      <td>12</td>\n",
       "      <td>61192098</td>\n",
       "      <td>61192297</td>\n",
       "    </tr>\n",
       "    <tr>\n",
       "      <th>2</th>\n",
       "      <td>4</td>\n",
       "      <td>69680053</td>\n",
       "      <td>69680252</td>\n",
       "    </tr>\n",
       "    <tr>\n",
       "      <th>3</th>\n",
       "      <td>9</td>\n",
       "      <td>129972462</td>\n",
       "      <td>129972661</td>\n",
       "    </tr>\n",
       "    <tr>\n",
       "      <th>4</th>\n",
       "      <td>11</td>\n",
       "      <td>53602178</td>\n",
       "      <td>53602377</td>\n",
       "    </tr>\n",
       "  </tbody>\n",
       "</table>\n",
       "</div>"
      ],
      "text/plain": [
       "  chr      start        end\n",
       "0   1  245542258  245542457\n",
       "1  12   61192098   61192297\n",
       "2   4   69680053   69680252\n",
       "3   9  129972462  129972661\n",
       "4  11   53602178   53602377"
      ]
     },
     "execution_count": 8,
     "metadata": {},
     "output_type": "execute_result"
    }
   ],
   "source": [
    "N = 1000\n",
    "SEQ_LENGTH = 200\n",
    "many_intervals = [random_genomic_interval(SEQ_LENGTH) for _ in range(N)]\n",
    "many_intervals_df = pd.DataFrame(many_intervals, columns=['chr', 'start', 'end'])\n",
    "many_intervals_df.head()"
   ]
  },
  {
   "cell_type": "markdown",
   "metadata": {},
   "source": [
    "generate a random set of nucleotide sequences with `random_nucleotides`."
   ]
  },
  {
   "cell_type": "code",
   "execution_count": 12,
   "metadata": {},
   "outputs": [
    {
     "data": {
      "text/plain": [
       "['GGTACGGCGTGCTCCCGTGC',\n",
       " 'CCGGTGAGGTAGGAGACTGA',\n",
       " 'AAAAGCAGTCATCACCCTTG',\n",
       " 'CGTATCGTTGGGGCGGATTG',\n",
       " 'CGAACGCGCGCCTGGATGCT',\n",
       " 'TGTGGTACCCACACTACCGG',\n",
       " 'TAATTAGAACACTAGCCTTA',\n",
       " 'TGGAGCTCAGCTATACTTCA',\n",
       " 'AGACCGACACGAGGAGAAAT',\n",
       " 'CACAGTCACATCCAGCACAA']"
      ]
     },
     "execution_count": 12,
     "metadata": {},
     "output_type": "execute_result"
    }
   ],
   "source": [
    "from rbp.random.random_sequence import random_nucleotides\n",
    "\n",
    "random_nucleotides(sample_size=10, seq_length=20)"
   ]
  },
  {
   "cell_type": "markdown",
   "metadata": {},
   "source": [
    "## Encoding / Decoding\n",
    "\n",
    "Encoding is a process of conversion from genomic sequences to numerical values. Decoding is the opposite, from numerical values to genomic sequences.\n",
    "\n",
    "Currently, only one-hot encoding is implemented. We use boolean representation."
   ]
  },
  {
   "cell_type": "code",
   "execution_count": 9,
   "metadata": {},
   "outputs": [],
   "source": [
    "from rbp.encoding import one_hot_encoding, one_hot_decoding\n",
    "import matplotlib.pyplot as plt\n",
    "import pandas as pd\n",
    "\n",
    "%matplotlib inline"
   ]
  },
  {
   "cell_type": "markdown",
   "metadata": {},
   "source": [
    "Convert sequences to one hot encoding with `one_hot_encoding`.\n",
    "\n",
    "Note the resulting array is three-dimensional. The shape of the array is:\n",
    "\n",
    "    (number of sequences x length of one sequence x size of the alphabet )"
   ]
  },
  {
   "cell_type": "code",
   "execution_count": 10,
   "metadata": {},
   "outputs": [
    {
     "name": "stdout",
     "output_type": "stream",
     "text": [
      "array shape is: (2, 4, 4) \n",
      "\n"
     ]
    }
   ],
   "source": [
    "X = one_hot_encoding(['AACT', 'CCTG'])\n",
    "print('array shape is:', X.shape, '\\n', sep=' ')\n",
    "#print('one hot encoded sequences are:', X.astype(int), sep='\\n')"
   ]
  },
  {
   "cell_type": "markdown",
   "metadata": {},
   "source": [
    "With `one_hot_decoding`, we can easily get back the original sequences."
   ]
  },
  {
   "cell_type": "code",
   "execution_count": 11,
   "metadata": {},
   "outputs": [
    {
     "name": "stdout",
     "output_type": "stream",
     "text": [
      "decoded array is: ['AACT', 'CCTG']\n"
     ]
    }
   ],
   "source": [
    "Xd = one_hot_decoding(X)\n",
    "print('decoded array is:', Xd)"
   ]
  },
  {
   "cell_type": "markdown",
   "metadata": {},
   "source": [
    "A generic dot matrix of sequence vs sequence complementarity can be generated with `dot_matrix`.\n",
    "\n",
    "Note the resulting array is three-dimensional. The shape of the array is:\n",
    "\n",
    "    ( number of sequence pairs x length of seq_X x length of seq_Y x 1 )"
   ]
  },
  {
   "cell_type": "code",
   "execution_count": 13,
   "metadata": {},
   "outputs": [
    {
     "name": "stdout",
     "output_type": "stream",
     "text": [
      "array shape is: (10, 20, 20, 1)\n"
     ]
    }
   ],
   "source": [
    "from rbp.random.random_sequence import random_nucleotides\n",
    "from rbp.encoding import dot_matrix\n",
    "\n",
    "import pandas as pd\n",
    "# create dataframe\n",
    "df = pd.DataFrame( {\"seq_X\" : random_nucleotides(sample_size=10, seq_length=20),\n",
    "                    \"seq_Y\" : random_nucleotides(sample_size=10, seq_length=20)})\n",
    "\n",
    "array_ohe = dot_matrix(df)\n",
    "print('array shape is:',array_ohe.shape)\n"
   ]
  },
  {
   "cell_type": "code",
   "execution_count": null,
   "metadata": {},
   "outputs": [],
   "source": []
  }
 ],
 "metadata": {
  "kernelspec": {
   "display_name": "Python [conda env:rbp]",
   "language": "python",
   "name": "conda-env-rbp-py"
  },
  "language_info": {
   "codemirror_mode": {
    "name": "ipython",
    "version": 3
   },
   "file_extension": ".py",
   "mimetype": "text/x-python",
   "name": "python",
   "nbconvert_exporter": "python",
   "pygments_lexer": "ipython3",
   "version": "3.7.6"
  }
 },
 "nbformat": 4,
 "nbformat_minor": 4
}
